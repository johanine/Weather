{
 "cells": [
  {
   "cell_type": "code",
   "execution_count": null,
   "metadata": {},
   "outputs": [],
   "source": [
    "# Proyecto Weather\n",
    "# Ejercicio sobre el precio de vivienda pronosticado\n",
    "\n",
    "%matplotlib inline \n",
    "from ModeloML import ModeloML\n",
    "from DataBase import DataBase\n",
    "from datetime import datetime\n",
    "\n",
    "weather = DataBase()\n",
    "stations = [\"SPZO:9:PE\"];\n",
    "\n",
    "data = weather.cargar_data(0,stations,\"2018-01-01\",\"2020-08-01\",0)\n",
    "weather.preparar_data(\"-13.531\",\"-71.951\",\"3.307\")\n",
    "weather.trans_pipeline()\n",
    "\n",
    "modelo = ModeloML(weather)\n",
    "#lin_rmse,lin_mae, lin_reg = modelo.RegresionLineal()\n",
    "#modelo.GuardarModelo(lin_reg, \"RegresionLineal\")\n",
    "#tree_rmse, tree_reg = modelo.DecisionTreeRegressor()\n",
    "#modelo.GuardarModelo(tree_reg, \"DecisionTreeRegressor\")\n",
    "#modelo.CrossValidation(tree_reg, lin_reg)\n",
    "#forest_rmse , forest_reg = modelo.RandomForest()\n",
    "#modelo.GuardarModelo(forest_reg, \"RandomForest\")\n",
    "#modelo.GridSearch()\n",
    "#final_rmse = modelo.RandomizedSearch(weather)\n",
    "#print(final_rmse)"
   ]
  },
  {
   "cell_type": "code",
   "execution_count": null,
   "metadata": {},
   "outputs": [],
   "source": [
    "#weather.mostrar_datos('CONJUNTOS','clds')\n",
    "#weather.mostrar_datos('TEST_HEAD','clds')\n",
    "#weather.mostrar_datos('HISTOGRAMA_COL','wind_speed_cat')\n",
    "#weather.categorizar_data(0,'wind_speed',85.5, 0., 0.)\n",
    "#weather.mostrar_datos('VALUE_COUNT','wind_speed_cat')\n",
    "#weather.mostrar_datos('HISTOGRAMA_COL','wind_speed_cat')\n",
    "#weather.preparar_data_sss('temp_cat')\n",
    "#weather.preparar_data_sss('humedad_cat')\n",
    "#weather.preparar_data_sss('presion_cat')\n",
    "#weather.preparar_data_sss('wind_speed_cat')\n",
    "#weather.mostrar_datos('OVERALL','temp_cat')\n",
    "#weather.mostrar_datos('OVERALL','humedad_cat')\n",
    "#weather.mostrar_datos('OVERALL','presion_cat')\n",
    "#weather.mostrar_datos('OVERALL','wind_speed_cat')"
   ]
  },
  {
   "cell_type": "code",
   "execution_count": null,
   "metadata": {
    "scrolled": true
   },
   "outputs": [],
   "source": [
    "weather.categorizar_data(1,'wind_speed',6.5, 0., 30.)\n",
    "weather.mostrar_datos('VALUE_COUNT','wind_speed_cat')\n",
    "weather.mostrar_datos('HISTOGRAMA_COL','wind_speed_cat')"
   ]
  },
  {
   "cell_type": "code",
   "execution_count": null,
   "metadata": {},
   "outputs": [],
   "source": [
    "#print(data['wind_speed'].min())\n",
    "#print(data['wind_speed'].max())\n",
    "#print(data['wind_speed'].std())\n",
    "#print(data['fecha'].count())\n",
    "#data_ = data.loc[(data['wind_speed'] < 107)]\n",
    "#print(data_['fecha'].count())\n",
    "#print(data_['wind_speed'].max())\n",
    "#data_ = data.loc[(data['wind_speed'] == NaN)]\n",
    "#print(data_['wind_speed'].count())\n",
    "import numpy as np\n",
    "print(data[data['wind_speed'].isnull()])\n",
    "print(data[np.isnan(data.wind_speed)])"
   ]
  },
  {
   "cell_type": "code",
   "execution_count": null,
   "metadata": {},
   "outputs": [],
   "source": [
    "datetime.fromtimestamp(1598918400)"
   ]
  }
 ],
 "metadata": {
  "kernelspec": {
   "display_name": "Python 3",
   "language": "python",
   "name": "python3"
  },
  "language_info": {
   "codemirror_mode": {
    "name": "ipython",
    "version": 3
   },
   "file_extension": ".py",
   "mimetype": "text/x-python",
   "name": "python",
   "nbconvert_exporter": "python",
   "pygments_lexer": "ipython3",
   "version": "3.7.3"
  }
 },
 "nbformat": 4,
 "nbformat_minor": 2
}
