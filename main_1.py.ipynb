{
  "nbformat": 4,
  "nbformat_minor": 0,
  "metadata": {
    "kernelspec": {
      "display_name": "Python 3",
      "language": "python",
      "name": "python3"
    },
    "language_info": {
      "codemirror_mode": {
        "name": "ipython",
        "version": 3
      },
      "file_extension": ".py",
      "mimetype": "text/x-python",
      "name": "python",
      "nbconvert_exporter": "python",
      "pygments_lexer": "ipython3",
      "version": "3.7.3"
    },
    "colab": {
      "name": "main.py.ipynb",
      "provenance": [],
      "collapsed_sections": [],
      "toc_visible": true
    }
  },
  "cells": [
    {
      "cell_type": "code",
      "metadata": {
        "id": "cdkA_Pmae3E7",
        "outputId": "0a5571ca-3185-4e89-e4c9-9f09dda2c46e",
        "colab": {
          "base_uri": "https://localhost:8080/",
          "height": 292
        }
      },
      "source": [
        "# Proyecto Weather\n",
        "# Ejercicio sobre el precio de vivienda pronosticado\n",
        "\n",
        "%matplotlib inline \n",
        "from ModeloML import ModeloML\n",
        "from DataBase import DataBase\n",
        "from datetime import datetime\n",
        "\n",
        "weather = DataBase()\n",
        "stations = [\"SPZO:9:PE\"];\n",
        "\n",
        "data = weather.cargar_data(0,stations,\"2018-01-01\",\"2018-12-31\",0)\n",
        "weather.preparar_data(\"-13.531\",\"-71.951\",\"3.307\")\n",
        "weather.trans_pipeline()\n",
        "\n",
        "modelo = ModeloML(weather)\n",
        "#lin_rmse,lin_mae, lin_reg = modelo.RegresionLineal()\n",
        "#modelo.GuardarModelo(lin_reg, \"RegresionLineal\")\n",
        "#tree_rmse, tree_reg = modelo.DecisionTreeRegressor()\n",
        "#modelo.GuardarModelo(tree_reg, \"DecisionTreeRegressor\")\n",
        "#modelo.CrossValidation(tree_reg, lin_reg)\n",
        "forest_rmse , forest_reg = modelo.RandomForest()\n",
        "modelo.GuardarModelo(forest_reg, \"RandomForest\")\n",
        "#modelo.GridSearch()\n",
        "#final_rmse = modelo.RandomizedSearch(weather)\n",
        "#print(final_rmse)"
      ],
      "execution_count": null,
      "outputs": [
        {
          "output_type": "stream",
          "text": [
            "Existen datos null en la categoria de la columna: wind_speed_cat, se pasara a reparar..\n",
            "Empty DataFrame\n",
            "Columns: [latitud, longitud, altitud, station, station_name, fecha, year, month, day, hour, minute, temp, wind_direction, wind_speed, nubes, humedad, presion, total_rain, hour_rain, temp_cat, humedad_cat, presion_cat, wind_speed_cat]\n",
            "Index: []\n",
            "No hay valores faltantes en la data\n",
            "La estrategia usada es: median\n",
            "\n",
            "\n",
            "\n",
            "\n",
            "\n",
            "***************** RANDOM FOREST ****************\n",
            "\n",
            "Predictions:\t [16.09 21.65  8.32 12.42 16.17]\n",
            "Labels:\t\t [16.0, 22.0, 8.0, 13.0, 16.0]\n"
          ],
          "name": "stdout"
        }
      ]
    },
    {
      "cell_type": "code",
      "metadata": {
        "id": "qAiDQ62iiiIT",
        "outputId": "ba6a514c-bf9a-4c62-b4e2-c7792052ca7f",
        "colab": {
          "base_uri": "https://localhost:8080/",
          "height": 34
        }
      },
      "source": [
        "from google.colab import drive\n",
        "drive.mount('/content/drive')"
      ],
      "execution_count": null,
      "outputs": [
        {
          "output_type": "stream",
          "text": [
            "Mounted at /content/drive\n"
          ],
          "name": "stdout"
        }
      ]
    },
    {
      "cell_type": "markdown",
      "metadata": {
        "id": "zNnfjk3ze9Sb"
      },
      "source": [
        "# Sección nueva"
      ]
    },
    {
      "cell_type": "code",
      "metadata": {
        "id": "NfzpuFbRe3FB"
      },
      "source": [
        "#weather.mostrar_datos('CONJUNTOS','clds')\n",
        "#weather.mostrar_datos('TEST_HEAD','clds')\n",
        "#weather.mostrar_datos('HISTOGRAMA_COL','wind_speed_cat')\n",
        "#weather.categorizar_data(0,'wind_speed',85.5, 0., 0.)\n",
        "#weather.mostrar_datos('VALUE_COUNT','wind_speed_cat')\n",
        "#weather.mostrar_datos('HISTOGRAMA_COL','wind_speed_cat')\n",
        "#weather.preparar_data_sss('temp_cat')\n",
        "#weather.preparar_data_sss('humedad_cat')\n",
        "#weather.preparar_data_sss('presion_cat')\n",
        "#weather.preparar_data_sss('wind_speed_cat')\n",
        "#weather.mostrar_datos('OVERALL','temp_cat')\n",
        "#weather.mostrar_datos('OVERALL','humedad_cat')\n",
        "#weather.mostrar_datos('OVERALL','presion_cat')\n",
        "#weather.mostrar_datos('OVERALL','wind_speed_cat')"
      ],
      "execution_count": null,
      "outputs": []
    },
    {
      "cell_type": "code",
      "metadata": {
        "scrolled": true,
        "id": "VJj53NJJe3FG",
        "outputId": "35e09ff4-d46e-4d80-be0d-6ae7fc4debf6",
        "colab": {
          "base_uri": "https://localhost:8080/",
          "height": 367
        }
      },
      "source": [
        "#star = data['wind_speed'].min()-1\n",
        "#stop = data['wind_speed'].max()-90\n",
        "#weather.categorizar_data(1,'wind_speed',3., star, stop)\n",
        "print(weather.get_data()['wind_speed_cat'].isnull().values.any())\n",
        "weather.categorizar_data(1,'wind_speed',6.5, 0., 25.)\n",
        "weather.mostrar_datos('VALUE_COUNT','wind_speed_cat')\n",
        "weather.mostrar_datos('HISTOGRAMA_COL','wind_speed_cat')"
      ],
      "execution_count": null,
      "outputs": [
        {
          "output_type": "stream",
          "text": [
            "True\n",
            "1    12856\n",
            "2     8202\n",
            "3     2689\n",
            "4     1426\n",
            "Name: wind_speed_cat, dtype: int64\n"
          ],
          "name": "stdout"
        },
        {
          "output_type": "display_data",
          "data": {
            "image/png": "[encoded data removed]",
            "text/plain": [
              "<Figure size 432x288 with 1 Axes>"
            ]
          },
          "metadata": {
            "tags": [],
            "needs_background": "light"
          }
        }
      ]
    },
    {
      "cell_type": "code",
      "metadata": {
        "id": "hQ56nGyse3FL"
      },
      "source": [
        "#print(data['wind_speed'].min())\n",
        "#print(data['wind_speed'].max())\n",
        "#print(data['wind_speed'].std())\n",
        "#print(data['fecha'].count())\n",
        "#data_ = data.loc[(data['wind_speed'] < 107)]\n",
        "#print(data_['fecha'].count())\n",
        "#print(data_['wind_speed'].max())\n",
        "#data_ = data.loc[(data['wind_speed'] == NaN)]\n",
        "#print(data_['wind_speed'].count())\n",
        "import numpy as np\n",
        "print(data[data['wind_speed'].isnull()])\n",
        "print(data[np.isnan(data.wind_speed)])"
      ],
      "execution_count": null,
      "outputs": []
    },
    {
      "cell_type": "code",
      "metadata": {
        "id": "Aj3JgBsIe3FP"
      },
      "source": [
        "datetime.fromtimestamp(1598918400)"
      ],
      "execution_count": null,
      "outputs": []
    },
    {
      "cell_type": "markdown",
      "metadata": {
        "id": "2DVfrXJ2e8x9"
      },
      "source": [
        "# Sección nueva"
      ]
    }
  ]
}